{
 "cells": [
  {
   "cell_type": "code",
   "execution_count": 2,
   "metadata": {},
   "outputs": [],
   "source": [
    "import torch\n",
    "import torch.nn as nn # 신경망들이 포함됨\n",
    "import torch.optim as optim # 최적화 알고리즘들이 포함됨\n",
    "import torch.nn.init as init # 텐서에 초기값을 줌\n",
    "\n",
    "import torchvision.datasets as datasets # 이미지 데이터셋 집합체\n",
    "import torchvision.transforms as transforms # 이미지 변환 툴\n",
    "\n",
    "from torch.utils.data import DataLoader # 학습 및 배치로 모델에 넣어주기 위한 툴\n",
    "\n",
    "import numpy as np\n",
    "import matplotlib.pyplot as plt"
   ]
  },
  {
   "cell_type": "code",
   "execution_count": 5,
   "metadata": {},
   "outputs": [],
   "source": [
    "batch_size = 100\n",
    "learning_rate = 0.0002\n",
    "num_epoch = 10"
   ]
  },
  {
   "cell_type": "code",
   "execution_count": 3,
   "metadata": {},
   "outputs": [
    {
     "name": "stdout",
     "output_type": "stream",
     "text": [
      "Downloading http://yann.lecun.com/exdb/mnist/train-images-idx3-ubyte.gz\n",
      "Downloading http://yann.lecun.com/exdb/mnist/train-images-idx3-ubyte.gz to ../Data/MNIST\\raw\\train-images-idx3-ubyte.gz\n"
     ]
    },
    {
     "name": "stderr",
     "output_type": "stream",
     "text": [
      "100.0%\n"
     ]
    },
    {
     "name": "stdout",
     "output_type": "stream",
     "text": [
      "Extracting ../Data/MNIST\\raw\\train-images-idx3-ubyte.gz to ../Data/MNIST\\raw\n",
      "\n",
      "Downloading http://yann.lecun.com/exdb/mnist/train-labels-idx1-ubyte.gz\n",
      "Downloading http://yann.lecun.com/exdb/mnist/train-labels-idx1-ubyte.gz to ../Data/MNIST\\raw\\train-labels-idx1-ubyte.gz\n"
     ]
    },
    {
     "name": "stderr",
     "output_type": "stream",
     "text": [
      "100.0%\n"
     ]
    },
    {
     "name": "stdout",
     "output_type": "stream",
     "text": [
      "Extracting ../Data/MNIST\\raw\\train-labels-idx1-ubyte.gz to ../Data/MNIST\\raw\n",
      "\n",
      "Downloading http://yann.lecun.com/exdb/mnist/t10k-images-idx3-ubyte.gz\n",
      "Downloading http://yann.lecun.com/exdb/mnist/t10k-images-idx3-ubyte.gz to ../Data/MNIST\\raw\\t10k-images-idx3-ubyte.gz\n"
     ]
    },
    {
     "name": "stderr",
     "output_type": "stream",
     "text": [
      "100.0%\n"
     ]
    },
    {
     "name": "stdout",
     "output_type": "stream",
     "text": [
      "Extracting ../Data/MNIST\\raw\\t10k-images-idx3-ubyte.gz to ../Data/MNIST\\raw\n",
      "\n",
      "Downloading http://yann.lecun.com/exdb/mnist/t10k-labels-idx1-ubyte.gz\n",
      "Downloading http://yann.lecun.com/exdb/mnist/t10k-labels-idx1-ubyte.gz to ../Data/MNIST\\raw\\t10k-labels-idx1-ubyte.gz\n"
     ]
    },
    {
     "name": "stderr",
     "output_type": "stream",
     "text": [
      "100.0%"
     ]
    },
    {
     "name": "stdout",
     "output_type": "stream",
     "text": [
      "Extracting ../Data/MNIST\\raw\\t10k-labels-idx1-ubyte.gz to ../Data/MNIST\\raw\n",
      "\n"
     ]
    },
    {
     "name": "stderr",
     "output_type": "stream",
     "text": [
      "\n"
     ]
    }
   ],
   "source": [
    "mnist_train = datasets.MNIST(root=\"../Data/\", train=True, transform=transforms.ToTensor(), target_transform=None, download=True)\n",
    "mnist_test = datasets.MNIST(root=\"../Data/\", train=False, transform=transforms.ToTensor(), target_transform=None, download=True)"
   ]
  },
  {
   "cell_type": "code",
   "execution_count": 6,
   "metadata": {},
   "outputs": [],
   "source": [
    "train_loader = DataLoader(mnist_train, batch_size=batch_size, shuffle=True, num_workers=2, drop_last=True)\n",
    "test_loader = DataLoader(mnist_test, batch_size=batch_size, shuffle=False, num_workers=2, drop_last=True)"
   ]
  },
  {
   "cell_type": "code",
   "execution_count": 7,
   "metadata": {},
   "outputs": [],
   "source": [
    "class CNN(nn.Module):\n",
    "    def __init__(self):\n",
    "        # super함수는 CNN class의 부모 class인 nn.Module을 초기화\n",
    "        super(CNN, self).__init__()\n",
    "        \n",
    "        # batch_size = 100\n",
    "        self.layer = nn.Sequential(\n",
    "            # [100,1,28,28] -> [100,16,24,24]\n",
    "            nn.Conv2d(in_channels=1,out_channels=16,kernel_size=5),  # 1채널 입력을 16채널로 변환하는 5x5 컨볼루션 레이어\n",
    "            nn.ReLU(),  # ReLU 활성화 함수\n",
    "            \n",
    "            # [100,16,24,24] -> [100,32,20,20]\n",
    "            nn.Conv2d(in_channels=16,out_channels=32,kernel_size=5),  # 16채널 입력을 32채널로 변환하는 5x5 컨볼루션 레이어\n",
    "            nn.ReLU(),  # ReLU 활성화 함수\n",
    "            \n",
    "            # [100,32,20,20] -> [100,32,10,10]\n",
    "            nn.MaxPool2d(kernel_size=2,stride=2),  # 2x2 맥스 풀링 레이어\n",
    "            \n",
    "            # [100,32,10,10] -> [100,64,6,6]\n",
    "            nn.Conv2d(in_channels=32, out_channels=64, kernel_size=5),  # 32채널 입력을 64채널로 변환하는 5x5 컨볼루션 레이어\n",
    "            nn.ReLU(),  # ReLU 활성화 함수\n",
    "            \n",
    "            # [100,64,6,6] -> [100,64,3,3]\n",
    "            nn.MaxPool2d(kernel_size=2,stride=2)  # 2x2 맥스 풀링 레이어          \n",
    "        )\n",
    "        self.fc_layer = nn.Sequential(\n",
    "            # [100,64*3*3] -> [100,100]\n",
    "            nn.Linear(64*3*3,100),  # 64*3*3 차원의 입력을 100차원으로 변환하는 선형 레이어                                              \n",
    "            nn.ReLU(),  # ReLU 활성화 함수\n",
    "            # [100,100] -> [100,10]\n",
    "            nn.Linear(100,10)  # 100차원의 입력을 10차원으로 변환하는 선형 레이어                                                   \n",
    "        )       \n",
    "        \n",
    "    def forward(self,x):\n",
    "        # self.layer에 정의한 연산 수행\n",
    "        out = self.layer(x)\n",
    "        # view 함수를 이용해 텐서의 형태를 [100,나머지]로 변환\n",
    "        out = out.view(batch_size,-1)\n",
    "        # self.fc_layer 정의한 연산 수행    \n",
    "        out = self.fc_layer(out)\n",
    "        return out"
   ]
  },
  {
   "cell_type": "code",
   "execution_count": 8,
   "metadata": {},
   "outputs": [],
   "source": [
    "device = torch.device(\"cuda:0\" if torch.cuda.is_available() else \"cpu\")"
   ]
  },
  {
   "cell_type": "code",
   "execution_count": 9,
   "metadata": {},
   "outputs": [],
   "source": [
    "model = CNN().to(device)"
   ]
  },
  {
   "cell_type": "code",
   "execution_count": 10,
   "metadata": {},
   "outputs": [],
   "source": [
    "loss_func = nn.CrossEntropyLoss()\n",
    "#손실함수는 cross entropy loss를 사용\n",
    "\n",
    "optimizer = torch.optim.Adam(model.parameters(), lr=learning_rate)\n",
    "# 최적화 알고리즘은 Adam을 사용"
   ]
  },
  {
   "cell_type": "code",
   "execution_count": 11,
   "metadata": {},
   "outputs": [
    {
     "name": "stdout",
     "output_type": "stream",
     "text": [
      "tensor(2.2968, grad_fn=<NllLossBackward0>)\n",
      "tensor(0.1856, grad_fn=<NllLossBackward0>)\n",
      "tensor(0.0583, grad_fn=<NllLossBackward0>)\n",
      "tensor(0.0896, grad_fn=<NllLossBackward0>)\n",
      "tensor(0.0232, grad_fn=<NllLossBackward0>)\n",
      "tensor(0.0602, grad_fn=<NllLossBackward0>)\n",
      "tensor(0.0151, grad_fn=<NllLossBackward0>)\n",
      "tensor(0.0651, grad_fn=<NllLossBackward0>)\n",
      "tensor(0.0166, grad_fn=<NllLossBackward0>)\n",
      "tensor(0.0169, grad_fn=<NllLossBackward0>)\n"
     ]
    }
   ],
   "source": [
    "# 손실에대한 경사하강법을 진행하여 모델을 업데이트\n",
    "loss_arr =[]\n",
    "\n",
    "# num_epoch 만큼 반복\n",
    "for i in range(num_epoch):\n",
    "    # train_loader에서 이미지와 레이블을 가져옴\n",
    "    for j,[image,label] in enumerate(train_loader):\n",
    "        x = image.to(device)\n",
    "        y= label.to(device)\n",
    "        \n",
    "        optimizer.zero_grad() # 기울기를 0으로 초기화\n",
    "        \n",
    "        # 모델에 이미지를 전달하여 출력을 얻음\n",
    "        output = model.forward(x)\n",
    "        \n",
    "        # 출력과 레이블을 사용하여 손실 계산\n",
    "        loss = loss_func(output,y)\n",
    "        loss.backward() #기울기 계산\n",
    "        optimizer.step() # 가중치 업데이트\n",
    "        \n",
    "        # 매 1000번째 반복마다 손실 출력 및 loss_arr에 손실 값 추가\n",
    "        if j % 1000 == 0:\n",
    "            print(loss)\n",
    "            loss_arr.append(loss.cpu().detach().numpy())  # detach() 함수는 기존 텐서에서 계산된 텐서를 분리시킴"
   ]
  },
  {
   "cell_type": "code",
   "execution_count": 12,
   "metadata": {},
   "outputs": [
    {
     "name": "stdout",
     "output_type": "stream",
     "text": [
      "Accuracy of Test Data: 99.11000061035156%\n"
     ]
    }
   ],
   "source": [
    "correct = 0\n",
    "total = 0\n",
    "\n",
    "# evaluate model\n",
    "model.eval()\n",
    "\n",
    "with torch.no_grad():\n",
    "    for image,label in test_loader:\n",
    "        x = image.to(device)  # 이미지를 디바이스로 전송\n",
    "        y= label.to(device)  # 라벨을 디바이스로 전송\n",
    "\n",
    "        output = model.forward(x)  # 모델에 이미지를 전달하여 출력값 도출\n",
    "        \n",
    "        # torch.max함수는 (최댓값,index)를 반환 \n",
    "        _,output_index = torch.max(output,1)  # 출력값에서 최댓값과 해당 인덱스를 추출\n",
    "        \n",
    "        # 전체 개수 += 라벨의 개수\n",
    "        total += label.size(0)  # 전체 개수에 현재 배치의 라벨 개수를 더함\n",
    "        \n",
    "        # 도출한 모델의 index와 라벨이 일치하면 correct에 개수 추가\n",
    "        correct += (output_index == y).sum().float()  # 모델의 예측과 실제 라벨이 일치하는 개수를 correct에 더함\n",
    "    \n",
    "    # 정확도 도출\n",
    "    print(\"Accuracy of Test Data: {}%\".format(100*correct/total))  # 정확도를 계산하여 출력"
   ]
  },
  {
   "cell_type": "code",
   "execution_count": null,
   "metadata": {},
   "outputs": [],
   "source": []
  }
 ],
 "metadata": {
  "kernelspec": {
   "display_name": "torch_book",
   "language": "python",
   "name": "python3"
  },
  "language_info": {
   "codemirror_mode": {
    "name": "ipython",
    "version": 3
   },
   "file_extension": ".py",
   "mimetype": "text/x-python",
   "name": "python",
   "nbconvert_exporter": "python",
   "pygments_lexer": "ipython3",
   "version": "3.9.13"
  }
 },
 "nbformat": 4,
 "nbformat_minor": 2
}
